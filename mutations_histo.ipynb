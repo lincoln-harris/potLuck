{
 "cells": [
  {
   "cell_type": "code",
   "execution_count": null,
   "metadata": {
    "collapsed": true
   },
   "outputs": [],
   "source": [
    "# create histograms for the number of specific mutations found in a given gene, across all cells\n",
    "# holy shit does this work??"
   ]
  },
  {
   "cell_type": "code",
   "execution_count": 2,
   "metadata": {
    "collapsed": true
   },
   "outputs": [],
   "source": [
    "import pandas as pd\n",
    "import os"
   ]
  },
  {
   "cell_type": "code",
   "execution_count": 41,
   "metadata": {
    "collapsed": true
   },
   "outputs": [],
   "source": [
    "def dict_to_csv(d, fname):\n",
    "    with open(fname, 'w') as f:\n",
    "        for key in d.keys():\n",
    "            f.write(\"%s,%s\\n\"%(key,d[key]))"
   ]
  },
  {
   "cell_type": "code",
   "execution_count": 42,
   "metadata": {
    "scrolled": true
   },
   "outputs": [
    {
     "name": "stdout",
     "output_type": "stream",
     "text": [
      "RET\n",
      "TP63\n",
      "NFE2L2\n",
      "ERBB2\n",
      "HIF1a\n",
      "RET\n",
      "PIK3C\n",
      "NOTCH1\n",
      "TET2\n",
      "PTPRT\n",
      "RAR\n",
      "SPTA1\n",
      "RAD21\n",
      "TP63\n",
      "HER2\n",
      "JAK1\n",
      "STK11\n",
      "DROSH\n",
      "HER2\n",
      "RET\n",
      "MYCL\n",
      "JAK1\n",
      "MET\n",
      "BRIP\n",
      "TET2\n",
      "BRIP\n",
      "SETD2\n",
      "RBM10\n",
      "KRAS\n",
      "SMAD4\n",
      "MAP2K2\n",
      "SMARCA4\n",
      "BRAF\n",
      "KEAP1\n",
      "DDR2\n",
      "MYCL\n",
      "BRCA1\n",
      "HIF1a\n",
      "GRIN2\n",
      "DDR2\n",
      "NFE2L2\n",
      "PIK3CB\n",
      "ERBB2\n",
      "RB1\n",
      "NKX2-1\n",
      "SMARCA4\n",
      "KDR\n",
      "CTNNB1\n",
      "PIK3CB\n",
      "BTK\n",
      "RAD21\n",
      "NKX2-1\n",
      "BAP1\n",
      "TP53\n",
      "BAP1\n",
      "FGFR2\n",
      "RET\n",
      "VHL\n",
      "CTNNB1\n",
      "TP53\n",
      "EGFR\n",
      "SOX2\n",
      "PTPN13\n",
      "RBM10\n",
      "MAP2K1\n",
      "FGFR1\n",
      "NF1\n",
      "MET\n",
      "NOTCH1\n",
      "FGFR1\n",
      "MAP2K1\n",
      "KT1\n",
      "BRCA1\n",
      "LK\n",
      "SMAD4\n",
      "KT1\n",
      "FGFR2\n",
      "ERBB4\n",
      "SPTA1\n",
      "BRAF\n",
      "LK\n",
      "BRCA2\n",
      "ERBB4\n",
      "DROSH\n",
      "KEAP1\n",
      "STK11\n",
      "KRAS\n",
      "BTK\n",
      "SETD2\n",
      "EGFR\n",
      "RAR\n",
      "NF1\n",
      "BRCA2\n",
      "PTPN13\n",
      "KDR\n",
      "GRIN2\n",
      "PIK3C\n",
      "SOX2\n",
      "VHL\n",
      "MAP2K2\n",
      "RB1\n",
      "PTPRT\n"
     ]
    }
   ],
   "source": [
    "path = '/Users/lincoln.harris/code/cerebra/cerebra/wrkdir/getMutationCounts_out'\n",
    "\n",
    "for file in os.listdir(path):\n",
    "    gene = file.strip('_out_AA.csv')\n",
    "    currHisto = {}\n",
    "    histo_name = gene + '_histo.csv'\n",
    "    print(gene)\n",
    "    \n",
    "    if '_AA.csv' in file:\n",
    "        filePath = path + '/' + file\n",
    "        \n",
    "        with open(filePath, 'r') as currFile:\n",
    "            data = currFile.readlines()\n",
    "            for line in data:\n",
    "                if not '[]' in line:\n",
    "                    lineSplt = line.split(',')[1]\n",
    "                    mut = lineSplt.strip(\"\\n\")\n",
    "                    mut = mut.lstrip()\n",
    "                    mut = mut.rstrip()\n",
    "                    mut = mut.strip(\"]\")\n",
    "                    mut = mut.strip(\"[\")\n",
    "                    mut = mut.strip(\"'\")\n",
    "                    \n",
    "                    if \"'\" in mut:    # why tf do i have to do this? \n",
    "                        mut = mut.split(\"'\")[1]\n",
    "                        \n",
    "                    if mut not in currHisto:\n",
    "                        currHisto.update({mut:1})\n",
    "                    else:\n",
    "                        currDictVal = currHisto[mut]\n",
    "                        currDictVal += 1\n",
    "                        currHisto.update({mut:currDictVal})\n",
    "                        \n",
    "        dict_to_csv(currHisto, histo_name)"
   ]
  },
  {
   "cell_type": "code",
   "execution_count": 37,
   "metadata": {},
   "outputs": [
    {
     "data": {
      "text/plain": [
       "{'A1266A': 1,\n",
       " 'E318*': 1,\n",
       " 'G276D': 1,\n",
       " 'Q409Q': 1,\n",
       " 'Q479E': 1,\n",
       " 'R1368*': 1,\n",
       " 'R247P': 1,\n",
       " 'T329N': 1,\n",
       " 'T603K': 1}"
      ]
     },
     "execution_count": 37,
     "metadata": {},
     "output_type": "execute_result"
    }
   ],
   "source": [
    "currHisto"
   ]
  },
  {
   "cell_type": "code",
   "execution_count": null,
   "metadata": {
    "collapsed": true
   },
   "outputs": [],
   "source": []
  }
 ],
 "metadata": {
  "kernelspec": {
   "display_name": "Python 3",
   "language": "python",
   "name": "python3"
  },
  "language_info": {
   "codemirror_mode": {
    "name": "ipython",
    "version": 3
   },
   "file_extension": ".py",
   "mimetype": "text/x-python",
   "name": "python",
   "nbconvert_exporter": "python",
   "pygments_lexer": "ipython3",
   "version": "3.6.4"
  }
 },
 "nbformat": 4,
 "nbformat_minor": 2
}
