{
 "cells": [
  {
   "cell_type": "code",
   "execution_count": null,
   "metadata": {
    "collapsed": true
   },
   "outputs": [],
   "source": [
    "\"\"\" investigating this strandedness problem -- \n",
    "    is there something up with our vcf files?? \"\"\""
   ]
  },
  {
   "cell_type": "code",
   "execution_count": 26,
   "metadata": {
    "collapsed": true
   },
   "outputs": [],
   "source": [
    "import pandas as pd\n",
    "import warnings\n",
    "warnings.simplefilter(action='ignore', category=FutureWarning)"
   ]
  },
  {
   "cell_type": "code",
   "execution_count": 27,
   "metadata": {
    "collapsed": true
   },
   "outputs": [],
   "source": [
    "def count_comments(filename):\n",
    "    \"\"\" Count comment lines (those that start with \"#\") \n",
    "        cribbed from slowko \"\"\"\n",
    "    comments = 0\n",
    "    fn_open = gzip.open if filename.endswith('.gz') else open\n",
    "    with fn_open(filename) as fh:\n",
    "        for line in fh:\n",
    "            if line.startswith('#'):\n",
    "                comments += 1\n",
    "            else:\n",
    "                break\n",
    "    return comments"
   ]
  },
  {
   "cell_type": "code",
   "execution_count": 28,
   "metadata": {
    "collapsed": true
   },
   "outputs": [],
   "source": [
    "def vcf_to_dataframe(filename):\n",
    "    \"\"\" Open a VCF file and return a pandas.DataFrame with\n",
    "        each INFO field included as a column in the dataframe \n",
    "        cribbed from slowko \"\"\"\n",
    "    VCF_HEADER = ['CHROM', 'POS', 'ID', 'REF', 'ALT', 'QUAL', 'FILTER', 'INFO', 'FORMAT', '20']\n",
    "\n",
    "    # Count how many comment lines should be skipped.\n",
    "    comments = count_comments(filename)\n",
    "    tbl = pd.read_table(filename, compression=None, skiprows=comments,\n",
    "                        names=VCF_HEADER, usecols=range(10))\n",
    "    return(tbl)"
   ]
  },
  {
   "cell_type": "code",
   "execution_count": 29,
   "metadata": {},
   "outputs": [
    {
     "data": {
      "text/html": [
       "<div>\n",
       "<style scoped>\n",
       "    .dataframe tbody tr th:only-of-type {\n",
       "        vertical-align: middle;\n",
       "    }\n",
       "\n",
       "    .dataframe tbody tr th {\n",
       "        vertical-align: top;\n",
       "    }\n",
       "\n",
       "    .dataframe thead th {\n",
       "        text-align: right;\n",
       "    }\n",
       "</style>\n",
       "<table border=\"1\" class=\"dataframe\">\n",
       "  <thead>\n",
       "    <tr style=\"text-align: right;\">\n",
       "      <th></th>\n",
       "      <th>CHROM</th>\n",
       "      <th>POS</th>\n",
       "      <th>ID</th>\n",
       "      <th>REF</th>\n",
       "      <th>ALT</th>\n",
       "      <th>QUAL</th>\n",
       "      <th>FILTER</th>\n",
       "      <th>INFO</th>\n",
       "      <th>FORMAT</th>\n",
       "      <th>20</th>\n",
       "    </tr>\n",
       "  </thead>\n",
       "  <tbody>\n",
       "    <tr>\n",
       "      <th>11551</th>\n",
       "      <td>chr7</td>\n",
       "      <td>140753336</td>\n",
       "      <td>.</td>\n",
       "      <td>A</td>\n",
       "      <td>T</td>\n",
       "      <td>15.65</td>\n",
       "      <td>.</td>\n",
       "      <td>AC=2;AF=1.00;AN=2;DP=1;ExcessHet=3.0103;FS=0.0...</td>\n",
       "      <td>GT:AD:DP:GQ:PL</td>\n",
       "      <td>1/1:0,1:1:3:42,3,0</td>\n",
       "    </tr>\n",
       "  </tbody>\n",
       "</table>\n",
       "</div>"
      ],
      "text/plain": [
       "      CHROM        POS ID REF ALT   QUAL FILTER  \\\n",
       "11551  chr7  140753336  .   A   T  15.65      .   \n",
       "\n",
       "                                                    INFO          FORMAT  \\\n",
       "11551  AC=2;AF=1.00;AN=2;DP=1;ExcessHet=3.0103;FS=0.0...  GT:AD:DP:GQ:PL   \n",
       "\n",
       "                       20  \n",
       "11551  1/1:0,1:1:3:42,3,0  "
      ]
     },
     "execution_count": 29,
     "metadata": {},
     "output_type": "execute_result"
    }
   ],
   "source": [
    "df = vcf_to_dataframe('/Users/lincoln.harris/Desktop/wierdness/O14_B000420.vcf')\n",
    "qpos = 140753336\n",
    "keep = df.POS == qpos\n",
    "df[keep]"
   ]
  },
  {
   "cell_type": "code",
   "execution_count": 6,
   "metadata": {
    "collapsed": true
   },
   "outputs": [
    {
     "name": "stderr",
     "output_type": "stream",
     "text": [
      "/Users/lincoln.harris/anaconda3/envs/cerebra/lib/python3.6/site-packages/ipykernel_launcher.py:10: FutureWarning: read_table is deprecated, use read_csv instead, passing sep='\\t'.\n",
      "  # Remove the CWD from sys.path while we load stuff.\n"
     ]
    },
    {
     "data": {
      "text/html": [
       "<div>\n",
       "<style scoped>\n",
       "    .dataframe tbody tr th:only-of-type {\n",
       "        vertical-align: middle;\n",
       "    }\n",
       "\n",
       "    .dataframe tbody tr th {\n",
       "        vertical-align: top;\n",
       "    }\n",
       "\n",
       "    .dataframe thead th {\n",
       "        text-align: right;\n",
       "    }\n",
       "</style>\n",
       "<table border=\"1\" class=\"dataframe\">\n",
       "  <thead>\n",
       "    <tr style=\"text-align: right;\">\n",
       "      <th></th>\n",
       "      <th>CHROM</th>\n",
       "      <th>POS</th>\n",
       "      <th>ID</th>\n",
       "      <th>REF</th>\n",
       "      <th>ALT</th>\n",
       "      <th>QUAL</th>\n",
       "      <th>FILTER</th>\n",
       "      <th>INFO</th>\n",
       "      <th>FORMAT</th>\n",
       "      <th>20</th>\n",
       "    </tr>\n",
       "  </thead>\n",
       "  <tbody>\n",
       "    <tr>\n",
       "      <th>15281</th>\n",
       "      <td>chr7</td>\n",
       "      <td>140753336</td>\n",
       "      <td>.</td>\n",
       "      <td>A</td>\n",
       "      <td>T</td>\n",
       "      <td>72.28</td>\n",
       "      <td>.</td>\n",
       "      <td>AC=2;AF=1.00;AN=2;DP=2;ExcessHet=3.0103;FS=0.0...</td>\n",
       "      <td>GT:AD:DP:GQ:PL</td>\n",
       "      <td>1/1:0,2:2:6:84,6,0</td>\n",
       "    </tr>\n",
       "  </tbody>\n",
       "</table>\n",
       "</div>"
      ],
      "text/plain": [
       "      CHROM        POS ID REF ALT   QUAL FILTER  \\\n",
       "15281  chr7  140753336  .   A   T  72.28      .   \n",
       "\n",
       "                                                    INFO          FORMAT  \\\n",
       "15281  AC=2;AF=1.00;AN=2;DP=2;ExcessHet=3.0103;FS=0.0...  GT:AD:DP:GQ:PL   \n",
       "\n",
       "                       20  \n",
       "15281  1/1:0,2:2:6:84,6,0  "
      ]
     },
     "execution_count": 6,
     "metadata": {},
     "output_type": "execute_result"
    }
   ],
   "source": [
    "df = vcf_to_dataframe('/Users/lincoln.harris/Desktop/J10_B001548.vcf')\n",
    "qpos = 140753336\n",
    "keep = df.POS == qpos\n",
    "df[keep]"
   ]
  },
  {
   "cell_type": "code",
   "execution_count": null,
   "metadata": {
    "collapsed": true
   },
   "outputs": [],
   "source": []
  }
 ],
 "metadata": {
  "kernelspec": {
   "display_name": "Python [conda env:cerebra]",
   "language": "python",
   "name": "conda-env-cerebra-py"
  },
  "language_info": {
   "codemirror_mode": {
    "name": "ipython",
    "version": 3
   },
   "file_extension": ".py",
   "mimetype": "text/x-python",
   "name": "python",
   "nbconvert_exporter": "python",
   "pygments_lexer": "ipython3",
   "version": "3.6.8"
  }
 },
 "nbformat": 4,
 "nbformat_minor": 2
}
